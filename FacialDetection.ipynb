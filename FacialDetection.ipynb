{
 "cells": [
  {
   "cell_type": "code",
   "execution_count": 16,
   "metadata": {},
   "outputs": [],
   "source": [
    "from keras.layers.core import Dense, Dropout, Activation, Flatten\n",
    "from keras.layers.convolutional import Conv2D\n",
    "from keras.layers.pooling import MaxPooling2D\n",
    "from keras.models import Sequential\n",
    "from keras import backend as K\n",
    "from keras.callbacks import TensorBoard\n",
    "from keras.optimizers import SGD\n",
    "\n",
    "import numpy as np\n",
    "import os\n",
    "import pandas as pd\n",
    "from matplotlib import pyplot as plt\n",
    "%matplotlib inline"
   ]
  },
  {
   "cell_type": "code",
   "execution_count": 17,
   "metadata": {},
   "outputs": [],
   "source": [
    "#data input\n",
    "FTRAIN = 'Data/training.csv'\n",
    "FTEST = 'Data/test.csv'\n",
    "def load(test=False, cols=None):\n",
    "    fname = FTEST if test else FTRAIN\n",
    "    df = pd.read_csv(os.path.expanduser(fname))\n",
    "    df['Image'] = df['Image'].apply(lambda im: np.fromstring(im, sep=' '))\n",
    "\n",
    "    if cols:\n",
    "        df = df[list(cols)+['Image']]\n",
    "    \n",
    "    #print(df.count())\n",
    "    df = df.dropna()\n",
    "    \n",
    "    X = np.vstack(df['Image'].values)/255\n",
    "    X = X.astype(np.float32) \n",
    "    X = X.reshape(-1,96,96,1)\n",
    "    \n",
    "    if(not test):\n",
    "        y = df[df.columns[:-1]].values\n",
    "        y = (y-48)/48\n",
    "        y = y.astype(np.float32)\n",
    "    else:\n",
    "        y = None           \n",
    "    \n",
    "    return X, y\n",
    "\n",
    "X, y = load()"
   ]
  },
  {
   "cell_type": "code",
   "execution_count": 18,
   "metadata": {},
   "outputs": [
    {
     "name": "stdout",
     "output_type": "stream",
     "text": [
      "_________________________________________________________________\n",
      "Layer (type)                 Output Shape              Param #   \n",
      "=================================================================\n",
      "conv2d_1 (Conv2D)            (None, 94, 94, 32)        320       \n",
      "_________________________________________________________________\n",
      "activation_1 (Activation)    (None, 94, 94, 32)        0         \n",
      "_________________________________________________________________\n",
      "max_pooling2d_1 (MaxPooling2 (None, 47, 47, 32)        0         \n",
      "_________________________________________________________________\n",
      "dropout_1 (Dropout)          (None, 47, 47, 32)        0         \n",
      "_________________________________________________________________\n",
      "conv2d_2 (Conv2D)            (None, 45, 45, 64)        18496     \n",
      "_________________________________________________________________\n",
      "activation_2 (Activation)    (None, 45, 45, 64)        0         \n",
      "_________________________________________________________________\n",
      "max_pooling2d_2 (MaxPooling2 (None, 22, 22, 64)        0         \n",
      "_________________________________________________________________\n",
      "dropout_2 (Dropout)          (None, 22, 22, 64)        0         \n",
      "_________________________________________________________________\n",
      "conv2d_3 (Conv2D)            (None, 20, 20, 128)       73856     \n",
      "_________________________________________________________________\n",
      "activation_3 (Activation)    (None, 20, 20, 128)       0         \n",
      "_________________________________________________________________\n",
      "max_pooling2d_3 (MaxPooling2 (None, 10, 10, 128)       0         \n",
      "_________________________________________________________________\n",
      "dropout_3 (Dropout)          (None, 10, 10, 128)       0         \n",
      "_________________________________________________________________\n",
      "conv2d_4 (Conv2D)            (None, 8, 8, 128)         147584    \n",
      "_________________________________________________________________\n",
      "activation_4 (Activation)    (None, 8, 8, 128)         0         \n",
      "_________________________________________________________________\n",
      "max_pooling2d_4 (MaxPooling2 (None, 4, 4, 128)         0         \n",
      "_________________________________________________________________\n",
      "dropout_4 (Dropout)          (None, 4, 4, 128)         0         \n",
      "_________________________________________________________________\n",
      "conv2d_5 (Conv2D)            (None, 2, 2, 128)         147584    \n",
      "_________________________________________________________________\n",
      "activation_5 (Activation)    (None, 2, 2, 128)         0         \n",
      "_________________________________________________________________\n",
      "max_pooling2d_5 (MaxPooling2 (None, 1, 1, 128)         0         \n",
      "_________________________________________________________________\n",
      "dropout_5 (Dropout)          (None, 1, 1, 128)         0         \n",
      "_________________________________________________________________\n",
      "flatten_1 (Flatten)          (None, 128)               0         \n",
      "_________________________________________________________________\n",
      "dense_1 (Dense)              (None, 800)               103200    \n",
      "_________________________________________________________________\n",
      "activation_6 (Activation)    (None, 800)               0         \n",
      "_________________________________________________________________\n",
      "dropout_6 (Dropout)          (None, 800)               0         \n",
      "_________________________________________________________________\n",
      "dense_2 (Dense)              (None, 800)               640800    \n",
      "_________________________________________________________________\n",
      "activation_7 (Activation)    (None, 800)               0         \n",
      "_________________________________________________________________\n",
      "dropout_7 (Dropout)          (None, 800)               0         \n",
      "_________________________________________________________________\n",
      "dense_3 (Dense)              (None, 600)               480600    \n",
      "_________________________________________________________________\n",
      "activation_8 (Activation)    (None, 600)               0         \n",
      "_________________________________________________________________\n",
      "dropout_8 (Dropout)          (None, 600)               0         \n",
      "_________________________________________________________________\n",
      "dense_4 (Dense)              (None, 400)               240400    \n",
      "_________________________________________________________________\n",
      "activation_9 (Activation)    (None, 400)               0         \n",
      "_________________________________________________________________\n",
      "dropout_9 (Dropout)          (None, 400)               0         \n",
      "_________________________________________________________________\n",
      "dense_5 (Dense)              (None, 30)                12030     \n",
      "=================================================================\n",
      "Total params: 1,864,870\n",
      "Trainable params: 1,864,870\n",
      "Non-trainable params: 0\n",
      "_________________________________________________________________\n",
      "None\n"
     ]
    }
   ],
   "source": [
    "#neural net\n",
    "model = Sequential()\n",
    "model.add(Conv2D(32, (3, 3),padding='valid', input_shape=(96, 96, 1))) #96 x 96 x 1\n",
    "model.add(Activation('relu'))\n",
    "model.add(MaxPooling2D(pool_size=(2,2)))\n",
    "model.add(Dropout(0.1))\n",
    "    \n",
    "model.add(Conv2D(64, (3, 3))) #48 x 48 x 32\n",
    "model.add(Activation('relu'))\n",
    "model.add(MaxPooling2D(pool_size=(2,2)))    \n",
    "model.add(Dropout(0.1))\n",
    "\n",
    "model.add(Conv2D(128, (3, 3))) #24 x 24 x 64\n",
    "model.add(Activation('relu'))\n",
    "model.add(MaxPooling2D(pool_size=(2,2)))    \n",
    "model.add(Dropout(0.1))\n",
    "\n",
    "model.add(Conv2D(128, (3,3))) #12 x 12 x 128\n",
    "model.add(Activation('relu'))\n",
    "model.add(MaxPooling2D(pool_size=(2,2)))\n",
    "model.add(Dropout(0.1))\n",
    "\n",
    "model.add(Conv2D(128, (3,3))) #6 x 6 x 128\n",
    "model.add(Activation('relu'))\n",
    "model.add(MaxPooling2D(pool_size=(2,2)))\n",
    "model.add(Dropout(0.1))\n",
    "\n",
    "# 3 x 3 x 256\n",
    "    \n",
    "model.add(Flatten())\n",
    "model.add(Dense(800))\n",
    "model.add(Activation('relu'))\n",
    "model.add(Dropout(0.4))\n",
    "\n",
    "model.add(Dense(800))\n",
    "model.add(Activation('relu'))\n",
    "model.add(Dropout(0.4))\n",
    "\n",
    "model.add(Dense(600))\n",
    "model.add(Activation('relu'))\n",
    "model.add(Dropout(0.4))\n",
    "\n",
    "model.add(Dense(400))\n",
    "model.add(Activation('relu'))\n",
    "model.add(Dropout(0.4))\n",
    "\n",
    "model.add(Dense(30)) #linear activation\n",
    "\n",
    "print(model.summary())"
   ]
  },
  {
   "cell_type": "code",
   "execution_count": 19,
   "metadata": {},
   "outputs": [],
   "source": [
    "from sklearn.model_selection import train_test_split\n",
    "x_train, x_test, y_train, y_test = train_test_split(X, y, test_size=0.2)\n",
    "model.compile(optimizer='adadelta', loss='mean_squared_error', metrics=['accuracy']) #fix loss?"
   ]
  },
  {
   "cell_type": "code",
   "execution_count": 20,
   "metadata": {},
   "outputs": [
    {
     "name": "stdout",
     "output_type": "stream",
     "text": [
      "Train on 1712 samples, validate on 428 samples\n",
      "Epoch 1/10\n",
      "1712/1712 [==============================] - 40s - loss: 0.0623 - acc: 0.2325 - val_loss: 0.0509 - val_acc: 0.7266\n",
      "Epoch 2/10\n",
      "1712/1712 [==============================] - 35s - loss: 0.0239 - acc: 0.4025 - val_loss: 0.0239 - val_acc: 0.7266\n",
      "Epoch 3/10\n",
      "1712/1712 [==============================] - 37s - loss: 0.0158 - acc: 0.4620 - val_loss: 0.0166 - val_acc: 0.7266\n",
      "Epoch 4/10\n",
      "1712/1712 [==============================] - 35s - loss: 0.0128 - acc: 0.4702 - val_loss: 0.0083 - val_acc: 0.7266\n",
      "Epoch 5/10\n",
      "1712/1712 [==============================] - 37s - loss: 0.0116 - acc: 0.4994 - val_loss: 0.0089 - val_acc: 0.7266\n",
      "Epoch 6/10\n",
      "1712/1712 [==============================] - 40s - loss: 0.0104 - acc: 0.5310 - val_loss: 0.0058 - val_acc: 0.7266\n",
      "Epoch 7/10\n",
      "1712/1712 [==============================] - 35s - loss: 0.0097 - acc: 0.5491 - val_loss: 0.0049 - val_acc: 0.7266\n",
      "Epoch 8/10\n",
      "1712/1712 [==============================] - 35s - loss: 0.0090 - acc: 0.5637 - val_loss: 0.0047 - val_acc: 0.7266\n",
      "Epoch 9/10\n",
      "1712/1712 [==============================] - 37s - loss: 0.0087 - acc: 0.5695 - val_loss: 0.0045 - val_acc: 0.7266\n",
      "Epoch 10/10\n",
      "1712/1712 [==============================] - 43s - loss: 0.0083 - acc: 0.5876 - val_loss: 0.0045 - val_acc: 0.7266\n"
     ]
    }
   ],
   "source": [
    "hist = model.fit(x_train, y_train, batch_size=64, epochs=10, verbose=1, validation_data=(x_test,y_test))\n",
    "#hist = model.fit(X, y, batch_size=64, epochs=5, verbose=1, validation_split=.2)"
   ]
  },
  {
   "cell_type": "code",
   "execution_count": 37,
   "metadata": {},
   "outputs": [
    {
     "name": "stdout",
     "output_type": "stream",
     "text": [
      "Test Loss: 0.00449379382081\n",
      "Test Accuracy: 0.726635513462\n"
     ]
    },
    {
     "data": {
      "text/plain": [
       "<matplotlib.axes._subplots.AxesSubplot at 0x7fd8c2f51390>"
      ]
     },
     "execution_count": 37,
     "metadata": {},
     "output_type": "execute_result"
    },
    {
     "data": {
      "image/png": "[encoded data removed]",
      "text/plain": [
       "<matplotlib.figure.Figure at 0x7fd8c2f5bd68>"
      ]
     },
     "metadata": {},
     "output_type": "display_data"
    }
   ],
   "source": [
    "import xkcd\n",
    "import numpy as np\n",
    "import pylab as pl\n",
    "from scipy import interpolate, signal\n",
    "import matplotlib.font_manager as fm\n",
    "\n",
    "loss, accuracy = model.evaluate(x_test, y_test, verbose=0)\n",
    "print('Test Loss:', loss)\n",
    "print('Test Accuracy:', accuracy)\n",
    "\n",
    "np.random.seed(0)\n",
    "\n",
    "ax = pl.axes()\n",
    "\n",
    "x = np.linspace(0, 10, 100)\n",
    "ax.plot(hist.history['acc'], 'b', lw=1)\n",
    "\n",
    "ax.set_title('Model fitting progression')\n",
    "ax.set_xlabel('Epochs')\n",
    "ax.set_ylabel('Accuracy')\n",
    "\n",
    "ax.set_xlim(0, 9)\n",
    "ax.set_ylim(0, 1.0)\n",
    "\n",
    "xkcd.XKCDify(ax, expand_axes=True)\n",
    "\n"
   ]
  },
  {
   "cell_type": "code",
   "execution_count": null,
   "metadata": {
    "collapsed": true
   },
   "outputs": [],
   "source": [
    "idx = 456\n",
    "plt.figure()\n",
    "locs = (model.predict(x_train[idx].reshape(1,96,96,1))*48+48)[0]\n",
    "for x in range(0,30,2):\n",
    "    plt.scatter(locs[x],locs[x+1])\n",
    "plt.imshow(x_train[idx].reshape(96,96), cmap='gray')"
   ]
  }
 ],
 "metadata": {
  "kernelspec": {
   "display_name": "Python [default]",
   "language": "python",
   "name": "python3"
  },
  "language_info": {
   "codemirror_mode": {
    "name": "ipython",
    "version": 3
   },
   "file_extension": ".py",
   "mimetype": "text/x-python",
   "name": "python",
   "nbconvert_exporter": "python",
   "pygments_lexer": "ipython3",
   "version": "3.5.3"
  }
 },
 "nbformat": 4,
 "nbformat_minor": 2
}
